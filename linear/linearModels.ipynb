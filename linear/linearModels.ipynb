{
 "cells": [
  {
   "cell_type": "markdown",
   "metadata": {},
   "source": [
    "### This is my first Jupyter Notebook"
   ]
  },
  {
   "cell_type": "markdown",
   "metadata": {},
   "source": [
    "In this notebook, I am going to study slope-intercept form of linear functions to model straight lines in Python "
   ]
  },
  {
   "cell_type": "markdown",
   "metadata": {},
   "source": [
    "$$ \\hat{y} = m_1(x) + c $$ "
   ]
  },
  {
   "cell_type": "markdown",
   "metadata": {},
   "source": [
    "### Problem 1: Jack in the Box "
   ]
  },
  {
   "cell_type": "markdown",
   "metadata": {},
   "source": [
    "Jack in the Box is looking at different pricing models for its new Buttery Jack burger.\n",
    "\n",
    "The price increases are: \n",
    "\n",
    "$$ \n",
    "m_1 = $0.20,\n",
    "m_2 = $0.30, \n",
    "m_3 = $0.40 \n",
    "$$\n",
    "\n",
    "The baseline price that the Jack business team is thinking of is $1.50\n",
    "\n",
    "Imagine that a certain customer can buy up to 3 burgers for his family to eat lunch, but the maximum he can spend \n",
    "is $6.50 . \n",
    "\n",
    "Come up with a possible linear model that can show the customer's purchasing behavior. \n",
    "\n"
   ]
  },
  {
   "cell_type": "markdown",
   "metadata": {},
   "source": [
    "Using price increase 1,\n",
    "\n",
    "we can create a model like this: \n",
    "\n",
    "We know that the price of the baseline is increasing by $0.20 so the slope of our linear model can be \n",
    "\n",
    "$$ m_{model} = $1.50 + $0.20 = $1.70  $$ \n",
    "\n",
    "We know that the customer can buy up to 3 burgers for his family, so x = 3 . Knowing that $6.50 is the maximum amount of money the customer can spend, we can find the maximum value of c .\n",
    "\n",
    "$$ y_{model} = m_{model}*x + c $$\n",
    "$$ $6.50 = $1.70(3) + c $$ \n",
    "$$ c = $6.50 - $5.10 = $1.40 $$ \n",
    "\n",
    "Now one solution for our generalized model for the customer's behavior can be: \n",
    "\n",
    "$$ y_{model} = $1.70*x + $1.40 $$ "
   ]
  },
  {
   "cell_type": "code",
   "execution_count": null,
   "metadata": {
    "collapsed": true
   },
   "outputs": [],
   "source": []
  }
 ],
 "metadata": {
  "kernelspec": {
   "display_name": "Python 3",
   "language": "python",
   "name": "python3"
  },
  "language_info": {
   "codemirror_mode": {
    "name": "ipython",
    "version": 3
   },
   "file_extension": ".py",
   "mimetype": "text/x-python",
   "name": "python",
   "nbconvert_exporter": "python",
   "pygments_lexer": "ipython3",
   "version": "3.6.3"
  }
 },
 "nbformat": 4,
 "nbformat_minor": 2
}
