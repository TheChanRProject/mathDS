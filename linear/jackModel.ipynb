{
 "cells": [
  {
   "cell_type": "markdown",
   "metadata": {},
   "source": [
    "### This is my first Jupyter Notebook"
   ]
  },
  {
   "cell_type": "markdown",
   "metadata": {},
   "source": [
    "In this notebook, I am going to study slope-intercept form of linear functions to model straight lines in Python "
   ]
  },
  {
   "cell_type": "markdown",
   "metadata": {},
   "source": [
    "$$ \\hat{y} = m_1(x) + c $$ "
   ]
  },
  {
   "cell_type": "markdown",
   "metadata": {},
   "source": [
    "### Problem 1: Jack in the Box "
   ]
  },
  {
   "cell_type": "markdown",
   "metadata": {},
   "source": [
    "Jack in the Box is looking at different pricing models for its new Buttery Jack burger.\n",
    "\n",
    "The price increases are: \n",
    "\n",
    "$$ \n",
    "m_1 = $0.20,\n",
    "m_2 = $0.30, \n",
    "m_3 = $0.40 \n",
    "$$\n",
    "\n",
    "The baseline price that the Jack business team is thinking of is $1.50\n",
    "\n",
    "Imagine that a certain customer can buy up to 3 burgers for his family to eat lunch, but the maximum he can spend \n",
    "is $6.50 . \n",
    "\n",
    "Come up with a possible linear model that can show the customer's purchasing behavior. \n",
    "\n"
   ]
  },
  {
   "cell_type": "markdown",
   "metadata": {},
   "source": [
    "Using price increase 1,\n",
    "\n",
    "we can create a model like this: \n",
    "\n",
    "We know that the price of the baseline is increasing by $0.20 so the slope of our linear model can be \n",
    "\n",
    "$$ m_{model} = $1.50 + $0.20 = $1.70  $$ \n",
    "\n",
    "We know that the customer can buy up to 3 burgers for his family, so x = 3 . Knowing that $6.50 is the maximum amount of money the customer can spend, we can find the maximum value of c .\n",
    "\n",
    "$$ y_{model} = m_{model}*x + c $$\n",
    "$$ $6.50 = $1.70(3) + c $$ \n",
    "$$ c = $6.50 - $5.10 = $1.40 $$ \n",
    "\n",
    "Now one solution for our generalized model for the customer's behavior can be: \n",
    "\n",
    "$$ y_{model} = $1.70*x + $1.40 $$ "
   ]
  },
  {
   "cell_type": "markdown",
   "metadata": {},
   "source": [
    "As a Data Scientist, our goal is to use our data skills to benefit the business. Jack in the Box's goal as a business to help its customers save money while enjoying the meal. Therefore, the focus on a good linear model would be to maximize the c value. We'll test out several linear models from the information given in Python to try and come up with a really good linear model that gives us the highest c value. "
   ]
  },
  {
   "cell_type": "code",
   "execution_count": 1,
   "metadata": {},
   "outputs": [
    {
     "name": "stdout",
     "output_type": "stream",
     "text": [
      "Hello World\n"
     ]
    }
   ],
   "source": [
    "import math \n",
    "\n",
    "hello = \"Hello World\"\n",
    "print(hello)"
   ]
  },
  {
   "cell_type": "markdown",
   "metadata": {},
   "source": [
    "Let's create variables for the price increases, the baseline price and number of burgers. "
   ]
  },
  {
   "cell_type": "code",
   "execution_count": 2,
   "metadata": {
    "collapsed": true
   },
   "outputs": [],
   "source": [
    "m1 = 0.20\n",
    "m2 = 0.30\n",
    "m3 = 0.40 \n",
    "x = 3 \n",
    "basePrice = 1.50\n"
   ]
  },
  {
   "cell_type": "markdown",
   "metadata": {},
   "source": [
    "Now let's try and calculate the value of c for the first model that was used in the above markdown."
   ]
  },
  {
   "cell_type": "code",
   "execution_count": 3,
   "metadata": {},
   "outputs": [
    {
     "name": "stdout",
     "output_type": "stream",
     "text": [
      "1.4000000000000004\n"
     ]
    }
   ],
   "source": [
    "c = 6.50 - (m1+basePrice)*x\n",
    "print(c)"
   ]
  },
  {
   "cell_type": "markdown",
   "metadata": {},
   "source": [
    "Let's create a similar model using m2 and m3 price increases."
   ]
  },
  {
   "cell_type": "code",
   "execution_count": 4,
   "metadata": {},
   "outputs": [
    {
     "name": "stdout",
     "output_type": "stream",
     "text": [
      "1.0999999999999996 0.8000000000000007\n"
     ]
    }
   ],
   "source": [
    "c2 = 6.50 - (m2+basePrice)*x\n",
    "c3 = 6.50 - (m3+basePrice)*x\n",
    "print(c2,c3)"
   ]
  },
  {
   "cell_type": "markdown",
   "metadata": {
    "collapsed": true
   },
   "source": [
    "We can put the c values in a Python list and sort them from least to greatest. "
   ]
  },
  {
   "cell_type": "code",
   "execution_count": 10,
   "metadata": {},
   "outputs": [
    {
     "name": "stdout",
     "output_type": "stream",
     "text": [
      "[1.4000000000000004, 1.0999999999999996, 0.8000000000000007]\n",
      "[0.8000000000000007, 1.0999999999999996, 1.4000000000000004]\n"
     ]
    }
   ],
   "source": [
    "cList = [c, c2, c3]\n",
    "print(cList)\n",
    "cList.sort()\n",
    "print(cList)"
   ]
  },
  {
   "cell_type": "markdown",
   "metadata": {},
   "source": [
    "From the above result, we can see that the c value generated by the m3 increase is the lowest when compared to the other two values. The original model's c value is the highest. "
   ]
  },
  {
   "cell_type": "markdown",
   "metadata": {},
   "source": [
    "Let's do the same thing, but this time we'll use a python function to the heavy lifting."
   ]
  },
  {
   "cell_type": "code",
   "execution_count": 12,
   "metadata": {},
   "outputs": [
    {
     "name": "stdout",
     "output_type": "stream",
     "text": [
      "1.4000000000000004\n",
      "1.0999999999999996\n",
      "0.8000000000000007\n"
     ]
    }
   ],
   "source": [
    "def cValue(priceIncrease,baselinePrice,x,maxPrice):\n",
    "    c = maxPrice - (priceIncrease+baselinePrice)*x\n",
    "    return c \n",
    "\n",
    "cV1 = cValue(m1, basePrice, x, 6.50)\n",
    "print(cV1)\n",
    "cV2 = cValue(m2, basePrice, x, 6.50)\n",
    "print(cV2)\n",
    "cV3 = cValue(m3, basePrice, x, 6.50)\n",
    "print(cV3)"
   ]
  },
  {
   "cell_type": "markdown",
   "metadata": {},
   "source": [
    "Based on these Python calculations, it seems like the original model saves the customer the most money :) \n",
    "\n",
    "$$ y_{model} = $1.70*x_{burgers} + $1.40 $$ "
   ]
  },
  {
   "cell_type": "markdown",
   "metadata": {},
   "source": [
    "### Visualizing the Three Models "
   ]
  },
  {
   "cell_type": "code",
   "execution_count": 15,
   "metadata": {},
   "outputs": [],
   "source": [
    "%matplotlib inline\n",
    "import matplotlib.pyplot as plt \n",
    "import numpy as np "
   ]
  },
  {
   "cell_type": "code",
   "execution_count": 27,
   "metadata": {},
   "outputs": [
    {
     "data": {
      "image/png": "[encoded data removed]",
      "text/plain": [
       "<Figure size 432x288 with 1 Axes>"
      ]
     },
     "metadata": {},
     "output_type": "display_data"
    }
   ],
   "source": [
    "# Model 1 \n",
    "\n",
    "xVal = np.arange(0,4,1)\n",
    "\n",
    "# Function of x for Model 1: y = 1.7x + 1.4\n",
    "\n",
    "def modelOne(x):\n",
    "    return 1.7*x + 1.4\n",
    "\n",
    "# Function of x for Model 2: y = 1.8x + 1.1\n",
    "\n",
    "def modelTwo(x):\n",
    "    return 1.8*x + 1.1\n",
    "\n",
    "# Function of x for Model 3: y = 1.9x + 0.8\n",
    "\n",
    "def modelThree(x):\n",
    "    return 1.9*x + 0.8\n",
    "\n",
    "yValM1 = modelOne(xVal)\n",
    "yValM2 = modelTwo(xVal)\n",
    "yValM3 = modelThree(xVal)\n",
    "\n",
    "# Visualization \n",
    "\n",
    "modelOneVis = plt.plot(xVal, yValM1, 'r')\n",
    "modelTwoVis = plt.plot(xVal, yValM2, 'b')\n",
    "modelThreeVis = plt.plot(xVal, yValM3, 'g')\n",
    "plt.title(\"Graphs of Jack Linear Models\")\n",
    "plt.legend([\"Linear Model 1\", \"Linear Model 2\", \"Linear Model 3\"])\n",
    "plt.show()"
   ]
  },
  {
   "cell_type": "code",
   "execution_count": null,
   "metadata": {
    "collapsed": true
   },
   "outputs": [],
   "source": []
  }
 ],
 "metadata": {
  "kernelspec": {
   "display_name": "Python 3",
   "language": "python",
   "name": "python3"
  },
  "language_info": {
   "codemirror_mode": {
    "name": "ipython",
    "version": 3
   },
   "file_extension": ".py",
   "mimetype": "text/x-python",
   "name": "python",
   "nbconvert_exporter": "python",
   "pygments_lexer": "ipython3",
   "version": "3.6.4"
  }
 },
 "nbformat": 4,
 "nbformat_minor": 2
}
